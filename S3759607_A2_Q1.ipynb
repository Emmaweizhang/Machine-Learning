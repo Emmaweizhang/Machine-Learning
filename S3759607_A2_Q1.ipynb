{
  "cells": [
    {
      "metadata": {},
      "cell_type": "markdown",
      "source": "I solemnly swear that I have not discussed my assignment solutions with anyone in any way and the solutions I am submitting are my own personal work.\n\nFull Name: Wei Zhang\n\nStudent ID: S3759607"
    },
    {
      "metadata": {
        "collapsed": true
      },
      "cell_type": "markdown",
      "source": "## Question 1 - Part A"
    },
    {
      "metadata": {},
      "cell_type": "markdown",
      "source": "First, read the csv file into the notebook and check the first 5 rows."
    },
    {
      "metadata": {
        "trusted": true
      },
      "cell_type": "code",
      "source": "import numpy as np\nimport pandas as pd\npd.set_option('display.max_columns', None)\n\ndata1 = pd.read_csv('A2_Q1.csv', sep = ',')",
      "execution_count": 1,
      "outputs": []
    },
    {
      "metadata": {
        "trusted": true
      },
      "cell_type": "code",
      "source": "data1.head()",
      "execution_count": 2,
      "outputs": [
        {
          "output_type": "execute_result",
          "execution_count": 2,
          "data": {
            "text/html": "<div>\n<style scoped>\n    .dataframe tbody tr th:only-of-type {\n        vertical-align: middle;\n    }\n\n    .dataframe tbody tr th {\n        vertical-align: top;\n    }\n\n    .dataframe thead th {\n        text-align: right;\n    }\n</style>\n<table border=\"1\" class=\"dataframe\">\n  <thead>\n    <tr style=\"text-align: right;\">\n      <th></th>\n      <th>ID</th>\n      <th>Age</th>\n      <th>Education</th>\n      <th>Marital_Status</th>\n      <th>Occupation</th>\n      <th>Annual_Income</th>\n    </tr>\n  </thead>\n  <tbody>\n    <tr>\n      <th>0</th>\n      <td>1</td>\n      <td>39</td>\n      <td>bachelors</td>\n      <td>never married</td>\n      <td>professional</td>\n      <td>high</td>\n    </tr>\n    <tr>\n      <th>1</th>\n      <td>2</td>\n      <td>50</td>\n      <td>doctorate</td>\n      <td>married</td>\n      <td>professional</td>\n      <td>mid</td>\n    </tr>\n    <tr>\n      <th>2</th>\n      <td>3</td>\n      <td>18</td>\n      <td>high school</td>\n      <td>never married</td>\n      <td>agriculture</td>\n      <td>low</td>\n    </tr>\n    <tr>\n      <th>3</th>\n      <td>4</td>\n      <td>30</td>\n      <td>bachelors</td>\n      <td>married</td>\n      <td>professional</td>\n      <td>mid</td>\n    </tr>\n    <tr>\n      <th>4</th>\n      <td>5</td>\n      <td>37</td>\n      <td>high school</td>\n      <td>married</td>\n      <td>agriculture</td>\n      <td>mid</td>\n    </tr>\n  </tbody>\n</table>\n</div>",
            "text/plain": "   ID  Age    Education Marital_Status    Occupation Annual_Income\n0   1   39    bachelors  never married  professional          high\n1   2   50    doctorate        married  professional           mid\n2   3   18  high school  never married   agriculture           low\n3   4   30    bachelors        married  professional           mid\n4   5   37  high school        married   agriculture           mid"
          },
          "metadata": {}
        }
      ]
    },
    {
      "metadata": {},
      "cell_type": "markdown",
      "source": "`Annual_Income` column is selected. Calculate the probability distribution of each type of income in target feature. "
    },
    {
      "metadata": {
        "trusted": true
      },
      "cell_type": "code",
      "source": "income = data1['Annual_Income']\nincome_probs = income.value_counts(normalize=True)\nincome_probs",
      "execution_count": 3,
      "outputs": [
        {
          "output_type": "execute_result",
          "execution_count": 3,
          "data": {
            "text/plain": "mid     0.60\nhigh    0.25\nlow     0.15\nName: Annual_Income, dtype: float64"
          },
          "metadata": {}
        }
      ]
    },
    {
      "metadata": {},
      "cell_type": "markdown",
      "source": "One way to measure impurity degree is using entropy. Recall that Shannon's model defines entropy as\n$$H(x) := - \\sum_{i=1}^{\\ell}(P(t=i) \\times \\log_{2}(P(t=i))$$\nThen we calculate the impurity of the `Annual_Income` feature using the entropy criterion."
    },
    {
      "metadata": {
        "trusted": true
      },
      "cell_type": "code",
      "source": "entropy = -1 * np.sum(np.log2(income_probs) * income_probs)\nentropy.round(3)",
      "execution_count": 4,
      "outputs": [
        {
          "output_type": "execute_result",
          "execution_count": 4,
          "data": {
            "text/plain": "1.353"
          },
          "metadata": {}
        }
      ]
    },
    {
      "metadata": {},
      "cell_type": "markdown",
      "source": "Another way to measure impurity degree is using Gini index. It is defined as \n$$ \\mbox{Gini}(x) := 1 - \\sum_{i=1}^{\\ell}P(t=i)^{2}$$\nThe impurity of the `Annual_Income` feature using Gini index is calculated as below."
    },
    {
      "metadata": {
        "trusted": true
      },
      "cell_type": "code",
      "source": "gini = 1 - np.sum(np.square(income_probs))\ngini.round(3)",
      "execution_count": 5,
      "outputs": [
        {
          "output_type": "execute_result",
          "execution_count": 5,
          "data": {
            "text/plain": "0.555"
          },
          "metadata": {}
        }
      ]
    },
    {
      "metadata": {},
      "cell_type": "markdown",
      "source": "### Part B"
    },
    {
      "metadata": {},
      "cell_type": "markdown",
      "source": "Dataset is sorted by the continuous `Age` feature in ascending order. Then the whole dataset is displayed as below."
    },
    {
      "metadata": {
        "trusted": true
      },
      "cell_type": "code",
      "source": "data1.sort_values(by='Age')",
      "execution_count": 6,
      "outputs": [
        {
          "output_type": "execute_result",
          "execution_count": 6,
          "data": {
            "text/html": "<div>\n<style scoped>\n    .dataframe tbody tr th:only-of-type {\n        vertical-align: middle;\n    }\n\n    .dataframe tbody tr th {\n        vertical-align: top;\n    }\n\n    .dataframe thead th {\n        text-align: right;\n    }\n</style>\n<table border=\"1\" class=\"dataframe\">\n  <thead>\n    <tr style=\"text-align: right;\">\n      <th></th>\n      <th>ID</th>\n      <th>Age</th>\n      <th>Education</th>\n      <th>Marital_Status</th>\n      <th>Occupation</th>\n      <th>Annual_Income</th>\n    </tr>\n  </thead>\n  <tbody>\n    <tr>\n      <th>2</th>\n      <td>3</td>\n      <td>18</td>\n      <td>high school</td>\n      <td>never married</td>\n      <td>agriculture</td>\n      <td>low</td>\n    </tr>\n    <tr>\n      <th>5</th>\n      <td>6</td>\n      <td>23</td>\n      <td>high school</td>\n      <td>never married</td>\n      <td>agriculture</td>\n      <td>low</td>\n    </tr>\n    <tr>\n      <th>12</th>\n      <td>13</td>\n      <td>23</td>\n      <td>bachelors</td>\n      <td>never married</td>\n      <td>agriculture</td>\n      <td>low</td>\n    </tr>\n    <tr>\n      <th>19</th>\n      <td>20</td>\n      <td>25</td>\n      <td>bachelors</td>\n      <td>married</td>\n      <td>transport</td>\n      <td>high</td>\n    </tr>\n    <tr>\n      <th>13</th>\n      <td>14</td>\n      <td>25</td>\n      <td>high school</td>\n      <td>married</td>\n      <td>professional</td>\n      <td>high</td>\n    </tr>\n    <tr>\n      <th>15</th>\n      <td>16</td>\n      <td>29</td>\n      <td>bachelors</td>\n      <td>never married</td>\n      <td>agriculture</td>\n      <td>mid</td>\n    </tr>\n    <tr>\n      <th>3</th>\n      <td>4</td>\n      <td>30</td>\n      <td>bachelors</td>\n      <td>married</td>\n      <td>professional</td>\n      <td>mid</td>\n    </tr>\n    <tr>\n      <th>9</th>\n      <td>10</td>\n      <td>33</td>\n      <td>high school</td>\n      <td>married</td>\n      <td>transport</td>\n      <td>mid</td>\n    </tr>\n    <tr>\n      <th>14</th>\n      <td>15</td>\n      <td>35</td>\n      <td>bachelors</td>\n      <td>married</td>\n      <td>agriculture</td>\n      <td>mid</td>\n    </tr>\n    <tr>\n      <th>10</th>\n      <td>11</td>\n      <td>36</td>\n      <td>high school</td>\n      <td>never married</td>\n      <td>transport</td>\n      <td>mid</td>\n    </tr>\n    <tr>\n      <th>4</th>\n      <td>5</td>\n      <td>37</td>\n      <td>high school</td>\n      <td>married</td>\n      <td>agriculture</td>\n      <td>mid</td>\n    </tr>\n    <tr>\n      <th>17</th>\n      <td>18</td>\n      <td>37</td>\n      <td>bachelors</td>\n      <td>married</td>\n      <td>professional</td>\n      <td>mid</td>\n    </tr>\n    <tr>\n      <th>18</th>\n      <td>19</td>\n      <td>39</td>\n      <td>high school</td>\n      <td>divorced</td>\n      <td>professional</td>\n      <td>high</td>\n    </tr>\n    <tr>\n      <th>0</th>\n      <td>1</td>\n      <td>39</td>\n      <td>bachelors</td>\n      <td>never married</td>\n      <td>professional</td>\n      <td>high</td>\n    </tr>\n    <tr>\n      <th>7</th>\n      <td>8</td>\n      <td>40</td>\n      <td>doctorate</td>\n      <td>married</td>\n      <td>professional</td>\n      <td>high</td>\n    </tr>\n    <tr>\n      <th>16</th>\n      <td>17</td>\n      <td>44</td>\n      <td>doctorate</td>\n      <td>divorced</td>\n      <td>transport</td>\n      <td>mid</td>\n    </tr>\n    <tr>\n      <th>11</th>\n      <td>12</td>\n      <td>45</td>\n      <td>doctorate</td>\n      <td>married</td>\n      <td>professional</td>\n      <td>mid</td>\n    </tr>\n    <tr>\n      <th>8</th>\n      <td>9</td>\n      <td>46</td>\n      <td>bachelors</td>\n      <td>divorced</td>\n      <td>transport</td>\n      <td>mid</td>\n    </tr>\n    <tr>\n      <th>1</th>\n      <td>2</td>\n      <td>50</td>\n      <td>doctorate</td>\n      <td>married</td>\n      <td>professional</td>\n      <td>mid</td>\n    </tr>\n    <tr>\n      <th>6</th>\n      <td>7</td>\n      <td>52</td>\n      <td>high school</td>\n      <td>divorced</td>\n      <td>transport</td>\n      <td>mid</td>\n    </tr>\n  </tbody>\n</table>\n</div>",
            "text/plain": "    ID  Age    Education Marital_Status    Occupation Annual_Income\n2    3   18  high school  never married   agriculture           low\n5    6   23  high school  never married   agriculture           low\n12  13   23    bachelors  never married   agriculture           low\n19  20   25    bachelors        married     transport          high\n13  14   25  high school        married  professional          high\n15  16   29    bachelors  never married   agriculture           mid\n3    4   30    bachelors        married  professional           mid\n9   10   33  high school        married     transport           mid\n14  15   35    bachelors        married   agriculture           mid\n10  11   36  high school  never married     transport           mid\n4    5   37  high school        married   agriculture           mid\n17  18   37    bachelors        married  professional           mid\n18  19   39  high school       divorced  professional          high\n0    1   39    bachelors  never married  professional          high\n7    8   40    doctorate        married  professional          high\n16  17   44    doctorate       divorced     transport           mid\n11  12   45    doctorate        married  professional           mid\n8    9   46    bachelors       divorced     transport           mid\n1    2   50    doctorate        married  professional           mid\n6    7   52  high school       divorced     transport           mid"
          },
          "metadata": {}
        }
      ]
    },
    {
      "metadata": {},
      "cell_type": "markdown",
      "source": "By looking at `Age` and `Annual_Income` features, candidate `Age` thresholds are decided: ≥24, ≥27, ≥38 and ≥42. The four thresholds are chosen as they are the age point when income level changes. Therefore, 4 new columns answering whether the age is over the given thresholds are added to the dataset as below. Masks are used to achieve this."
    },
    {
      "metadata": {
        "trusted": true
      },
      "cell_type": "code",
      "source": "mask24 = data1['Age'] >= 24\nmask27 = data1['Age'] >= 27\nmask38 = data1['Age'] >= 38\nmask42 = data1['Age'] >= 42\ndata1['Age≥24'] = mask24\ndata1['Age≥27'] = mask27\ndata1['Age≥38'] = mask38\ndata1['Age≥42'] = mask42\ndata1.head()",
      "execution_count": 7,
      "outputs": [
        {
          "output_type": "execute_result",
          "execution_count": 7,
          "data": {
            "text/html": "<div>\n<style scoped>\n    .dataframe tbody tr th:only-of-type {\n        vertical-align: middle;\n    }\n\n    .dataframe tbody tr th {\n        vertical-align: top;\n    }\n\n    .dataframe thead th {\n        text-align: right;\n    }\n</style>\n<table border=\"1\" class=\"dataframe\">\n  <thead>\n    <tr style=\"text-align: right;\">\n      <th></th>\n      <th>ID</th>\n      <th>Age</th>\n      <th>Education</th>\n      <th>Marital_Status</th>\n      <th>Occupation</th>\n      <th>Annual_Income</th>\n      <th>Age≥24</th>\n      <th>Age≥27</th>\n      <th>Age≥38</th>\n      <th>Age≥42</th>\n    </tr>\n  </thead>\n  <tbody>\n    <tr>\n      <th>0</th>\n      <td>1</td>\n      <td>39</td>\n      <td>bachelors</td>\n      <td>never married</td>\n      <td>professional</td>\n      <td>high</td>\n      <td>True</td>\n      <td>True</td>\n      <td>True</td>\n      <td>False</td>\n    </tr>\n    <tr>\n      <th>1</th>\n      <td>2</td>\n      <td>50</td>\n      <td>doctorate</td>\n      <td>married</td>\n      <td>professional</td>\n      <td>mid</td>\n      <td>True</td>\n      <td>True</td>\n      <td>True</td>\n      <td>True</td>\n    </tr>\n    <tr>\n      <th>2</th>\n      <td>3</td>\n      <td>18</td>\n      <td>high school</td>\n      <td>never married</td>\n      <td>agriculture</td>\n      <td>low</td>\n      <td>False</td>\n      <td>False</td>\n      <td>False</td>\n      <td>False</td>\n    </tr>\n    <tr>\n      <th>3</th>\n      <td>4</td>\n      <td>30</td>\n      <td>bachelors</td>\n      <td>married</td>\n      <td>professional</td>\n      <td>mid</td>\n      <td>True</td>\n      <td>True</td>\n      <td>False</td>\n      <td>False</td>\n    </tr>\n    <tr>\n      <th>4</th>\n      <td>5</td>\n      <td>37</td>\n      <td>high school</td>\n      <td>married</td>\n      <td>agriculture</td>\n      <td>mid</td>\n      <td>True</td>\n      <td>True</td>\n      <td>False</td>\n      <td>False</td>\n    </tr>\n  </tbody>\n</table>\n</div>",
            "text/plain": "   ID  Age    Education Marital_Status    Occupation Annual_Income  Age≥24  \\\n0   1   39    bachelors  never married  professional          high    True   \n1   2   50    doctorate        married  professional           mid    True   \n2   3   18  high school  never married   agriculture           low   False   \n3   4   30    bachelors        married  professional           mid    True   \n4   5   37  high school        married   agriculture           mid    True   \n\n   Age≥27  Age≥38  Age≥42  \n0    True    True   False  \n1    True    True    True  \n2   False   False   False  \n3    True   False   False  \n4    True   False   False  "
          },
          "metadata": {}
        }
      ]
    },
    {
      "metadata": {
        "trusted": true
      },
      "cell_type": "markdown",
      "source": "As `ID` and `Age` columns are not used as splitting features for impurity calculation, we remove the `ID` and `Age` column in this dataset.\n"
    },
    {
      "metadata": {
        "trusted": true
      },
      "cell_type": "code",
      "source": "data1_new = data1.drop(['ID', 'Age'], axis=1)\ndata1_new.head()",
      "execution_count": 8,
      "outputs": [
        {
          "output_type": "execute_result",
          "execution_count": 8,
          "data": {
            "text/html": "<div>\n<style scoped>\n    .dataframe tbody tr th:only-of-type {\n        vertical-align: middle;\n    }\n\n    .dataframe tbody tr th {\n        vertical-align: top;\n    }\n\n    .dataframe thead th {\n        text-align: right;\n    }\n</style>\n<table border=\"1\" class=\"dataframe\">\n  <thead>\n    <tr style=\"text-align: right;\">\n      <th></th>\n      <th>Education</th>\n      <th>Marital_Status</th>\n      <th>Occupation</th>\n      <th>Annual_Income</th>\n      <th>Age≥24</th>\n      <th>Age≥27</th>\n      <th>Age≥38</th>\n      <th>Age≥42</th>\n    </tr>\n  </thead>\n  <tbody>\n    <tr>\n      <th>0</th>\n      <td>bachelors</td>\n      <td>never married</td>\n      <td>professional</td>\n      <td>high</td>\n      <td>True</td>\n      <td>True</td>\n      <td>True</td>\n      <td>False</td>\n    </tr>\n    <tr>\n      <th>1</th>\n      <td>doctorate</td>\n      <td>married</td>\n      <td>professional</td>\n      <td>mid</td>\n      <td>True</td>\n      <td>True</td>\n      <td>True</td>\n      <td>True</td>\n    </tr>\n    <tr>\n      <th>2</th>\n      <td>high school</td>\n      <td>never married</td>\n      <td>agriculture</td>\n      <td>low</td>\n      <td>False</td>\n      <td>False</td>\n      <td>False</td>\n      <td>False</td>\n    </tr>\n    <tr>\n      <th>3</th>\n      <td>bachelors</td>\n      <td>married</td>\n      <td>professional</td>\n      <td>mid</td>\n      <td>True</td>\n      <td>True</td>\n      <td>False</td>\n      <td>False</td>\n    </tr>\n    <tr>\n      <th>4</th>\n      <td>high school</td>\n      <td>married</td>\n      <td>agriculture</td>\n      <td>mid</td>\n      <td>True</td>\n      <td>True</td>\n      <td>False</td>\n      <td>False</td>\n    </tr>\n  </tbody>\n</table>\n</div>",
            "text/plain": "     Education Marital_Status    Occupation Annual_Income  Age≥24  Age≥27  \\\n0    bachelors  never married  professional          high    True    True   \n1    doctorate        married  professional           mid    True    True   \n2  high school  never married   agriculture           low   False   False   \n3    bachelors        married  professional           mid    True    True   \n4  high school        married   agriculture           mid    True    True   \n\n   Age≥38  Age≥42  \n0    True   False  \n1    True    True  \n2   False   False  \n3   False   False  \n4   False   False  "
          },
          "metadata": {}
        }
      ]
    },
    {
      "metadata": {
        "trusted": true
      },
      "cell_type": "markdown",
      "source": "For convenience, we define a function called `compute_gini()` that calculates the impurity of a feature using Gini Index. We use this function to calculate the impurity of `Annual_Income` feature in the original dataset again."
    },
    {
      "metadata": {
        "trusted": true
      },
      "cell_type": "code",
      "source": "def compute_gini(feature):\n    probs = feature.value_counts(normalize=True)\n    impurity = 1 - np.sum(np.square(probs))\n    return(round(impurity, 3))\ncompute_gini(income)",
      "execution_count": 9,
      "outputs": [
        {
          "output_type": "execute_result",
          "execution_count": 9,
          "data": {
            "text/plain": "0.555"
          },
          "metadata": {}
        }
      ]
    },
    {
      "metadata": {},
      "cell_type": "markdown",
      "source": "Next, a new function is defined to calculate the information gain for certain feature using Gini Index."
    },
    {
      "metadata": {
        "trusted": true
      },
      "cell_type": "code",
      "source": "def comp_feature_infor_gain_gini(df, target, feature):\n    \"\"\"\n    This function calculates information gain for splitting on a particular descriptive feature for\n    a given dataset using Gini Index.\n    \"\"\"\n    print('target feature: ', target)\n    print('descriptive_feature: ', feature)\n    \n    target_gini = compute_gini(df[target])\n    \n    gini_list = list()\n    weight_list = list()\n    \n    for value in df[feature].unique():\n        df_feature_value = df[df[feature] == value]\n        gini_value = compute_gini(df_feature_value[target])\n        gini_list.append(round(gini_value, 3))\n        weight = len(df_feature_value) / len(df)\n        weight_list.append(round(weight, 3))\n        \n    print('impurity of partitions: ', gini_list)\n    print('weights of partitions: ', weight_list)\n    \n    feature_remain_gini = round(np.sum(np.array(gini_list)*np.array(weight_list)), 3)\n    print('remaining impurity: ', feature_remain_gini)\n    \n    information_gain = round(target_gini - feature_remain_gini, 3)\n    print('information_gain: ', information_gain)\n    \n    print('=========')",
      "execution_count": 10,
      "outputs": []
    },
    {
      "metadata": {},
      "cell_type": "markdown",
      "source": "Now we will call this function for each descriptive feature in the dataset. A for-loop is used to calculate the information gain for each of the descriptive features."
    },
    {
      "metadata": {
        "trusted": true
      },
      "cell_type": "code",
      "source": "for feature in data1_new.drop(columns = 'Annual_Income').columns:\n    feature_info_gain = comp_feature_infor_gain_gini(data1_new, 'Annual_Income', feature)",
      "execution_count": 11,
      "outputs": [
        {
          "output_type": "stream",
          "text": "target feature:  Annual_Income\ndescriptive_feature:  Education\nimpurity of partitions:  [0.531, 0.375, 0.625]\nweights of partitions:  [0.4, 0.2, 0.4]\nremaining impurity:  0.537\ninformation_gain:  0.018\n=========\ntarget feature:  Annual_Income\ndescriptive_feature:  Marital_Status\nimpurity of partitions:  [0.611, 0.42, 0.375]\nweights of partitions:  [0.3, 0.5, 0.2]\nremaining impurity:  0.468\ninformation_gain:  0.087\n=========\ntarget feature:  Annual_Income\ndescriptive_feature:  Occupation\nimpurity of partitions:  [0.5, 0.5, 0.278]\nweights of partitions:  [0.4, 0.3, 0.3]\nremaining impurity:  0.433\ninformation_gain:  0.122\n=========\ntarget feature:  Annual_Income\ndescriptive_feature:  Age≥24\nimpurity of partitions:  [0.415, 0.0]\nweights of partitions:  [0.85, 0.15]\nremaining impurity:  0.353\ninformation_gain:  0.202\n=========\ntarget feature:  Annual_Income\ndescriptive_feature:  Age≥27\nimpurity of partitions:  [0.32, 0.48]\nweights of partitions:  [0.75, 0.25]\nremaining impurity:  0.36\ninformation_gain:  0.195\n=========\ntarget feature:  Annual_Income\ndescriptive_feature:  Age≥38\nimpurity of partitions:  [0.469, 0.569]\nweights of partitions:  [0.4, 0.6]\nremaining impurity:  0.529\ninformation_gain:  0.026\n=========\ntarget feature:  Annual_Income\ndescriptive_feature:  Age≥42\nimpurity of partitions:  [0.631, 0.0]\nweights of partitions:  [0.75, 0.25]\nremaining impurity:  0.473\ninformation_gain:  0.082\n=========\n",
          "name": "stdout"
        }
      ]
    },
    {
      "metadata": {},
      "cell_type": "markdown",
      "source": "Based on the output above, using Gini Index the highest information gain occurs with the age threshhold at 24. "
    },
    {
      "metadata": {
        "trusted": true
      },
      "cell_type": "code",
      "source": "df_splits = pd.DataFrame(columns = ['Split', 'Remainder', 'Information_Gain', 'Is_Optimal'])\ndf_splits.loc[len(df_splits)] = ['Education', 0.537, 0.018, False]\ndf_splits.loc[len(df_splits)] = ['Marital_Status', 0.468, 0.087, False]\ndf_splits.loc[len(df_splits)] = ['Occupation', 0.433, 0.122, False]\ndf_splits.loc[len(df_splits)] = ['Age_24', 0.353, 0.202, True]\ndf_splits.loc[len(df_splits)] = ['Age_27', 0.36, 0.195, False]\ndf_splits.loc[len(df_splits)] = ['Age_38', 0.529, 0.026, False]\ndf_splits.loc[len(df_splits)] = ['Age_42', 0.473, 0.082, False]\ndf_splits",
      "execution_count": 12,
      "outputs": [
        {
          "output_type": "execute_result",
          "execution_count": 12,
          "data": {
            "text/html": "<div>\n<style scoped>\n    .dataframe tbody tr th:only-of-type {\n        vertical-align: middle;\n    }\n\n    .dataframe tbody tr th {\n        vertical-align: top;\n    }\n\n    .dataframe thead th {\n        text-align: right;\n    }\n</style>\n<table border=\"1\" class=\"dataframe\">\n  <thead>\n    <tr style=\"text-align: right;\">\n      <th></th>\n      <th>Split</th>\n      <th>Remainder</th>\n      <th>Information_Gain</th>\n      <th>Is_Optimal</th>\n    </tr>\n  </thead>\n  <tbody>\n    <tr>\n      <th>0</th>\n      <td>Education</td>\n      <td>0.537</td>\n      <td>0.018</td>\n      <td>False</td>\n    </tr>\n    <tr>\n      <th>1</th>\n      <td>Marital_Status</td>\n      <td>0.468</td>\n      <td>0.087</td>\n      <td>False</td>\n    </tr>\n    <tr>\n      <th>2</th>\n      <td>Occupation</td>\n      <td>0.433</td>\n      <td>0.122</td>\n      <td>False</td>\n    </tr>\n    <tr>\n      <th>3</th>\n      <td>Age_24</td>\n      <td>0.353</td>\n      <td>0.202</td>\n      <td>True</td>\n    </tr>\n    <tr>\n      <th>4</th>\n      <td>Age_27</td>\n      <td>0.360</td>\n      <td>0.195</td>\n      <td>False</td>\n    </tr>\n    <tr>\n      <th>5</th>\n      <td>Age_38</td>\n      <td>0.529</td>\n      <td>0.026</td>\n      <td>False</td>\n    </tr>\n    <tr>\n      <th>6</th>\n      <td>Age_42</td>\n      <td>0.473</td>\n      <td>0.082</td>\n      <td>False</td>\n    </tr>\n  </tbody>\n</table>\n</div>",
            "text/plain": "            Split  Remainder  Information_Gain Is_Optimal\n0       Education      0.537             0.018      False\n1  Marital_Status      0.468             0.087      False\n2      Occupation      0.433             0.122      False\n3          Age_24      0.353             0.202       True\n4          Age_27      0.360             0.195      False\n5          Age_38      0.529             0.026      False\n6          Age_42      0.473             0.082      False"
          },
          "metadata": {}
        }
      ]
    },
    {
      "metadata": {},
      "cell_type": "markdown",
      "source": "### Part C"
    },
    {
      "metadata": {},
      "cell_type": "markdown",
      "source": "Assume `Education` feature is at the root node, this dataset is first splitted based on Education value."
    },
    {
      "metadata": {
        "trusted": true
      },
      "cell_type": "code",
      "source": "data1['Education'].unique()",
      "execution_count": 13,
      "outputs": [
        {
          "output_type": "execute_result",
          "execution_count": 13,
          "data": {
            "text/plain": "array(['bachelors', 'doctorate', 'high school'], dtype=object)"
          },
          "metadata": {}
        }
      ]
    },
    {
      "metadata": {},
      "cell_type": "markdown",
      "source": "The dataset is then splitted into 3 subsets based on the education level."
    },
    {
      "metadata": {
        "trusted": true
      },
      "cell_type": "code",
      "source": "edu_bachelors = data1[data1['Education'] == 'bachelors']\nedu_doctorate = data1[data1['Education'] == 'doctorate']\nedu_hs = data1[data1['Education'] == 'high school']",
      "execution_count": 14,
      "outputs": []
    },
    {
      "metadata": {
        "trusted": true
      },
      "cell_type": "code",
      "source": "edu_bachelors.head()",
      "execution_count": 15,
      "outputs": [
        {
          "output_type": "execute_result",
          "execution_count": 15,
          "data": {
            "text/html": "<div>\n<style scoped>\n    .dataframe tbody tr th:only-of-type {\n        vertical-align: middle;\n    }\n\n    .dataframe tbody tr th {\n        vertical-align: top;\n    }\n\n    .dataframe thead th {\n        text-align: right;\n    }\n</style>\n<table border=\"1\" class=\"dataframe\">\n  <thead>\n    <tr style=\"text-align: right;\">\n      <th></th>\n      <th>ID</th>\n      <th>Age</th>\n      <th>Education</th>\n      <th>Marital_Status</th>\n      <th>Occupation</th>\n      <th>Annual_Income</th>\n      <th>Age≥24</th>\n      <th>Age≥27</th>\n      <th>Age≥38</th>\n      <th>Age≥42</th>\n    </tr>\n  </thead>\n  <tbody>\n    <tr>\n      <th>0</th>\n      <td>1</td>\n      <td>39</td>\n      <td>bachelors</td>\n      <td>never married</td>\n      <td>professional</td>\n      <td>high</td>\n      <td>True</td>\n      <td>True</td>\n      <td>True</td>\n      <td>False</td>\n    </tr>\n    <tr>\n      <th>3</th>\n      <td>4</td>\n      <td>30</td>\n      <td>bachelors</td>\n      <td>married</td>\n      <td>professional</td>\n      <td>mid</td>\n      <td>True</td>\n      <td>True</td>\n      <td>False</td>\n      <td>False</td>\n    </tr>\n    <tr>\n      <th>8</th>\n      <td>9</td>\n      <td>46</td>\n      <td>bachelors</td>\n      <td>divorced</td>\n      <td>transport</td>\n      <td>mid</td>\n      <td>True</td>\n      <td>True</td>\n      <td>True</td>\n      <td>True</td>\n    </tr>\n    <tr>\n      <th>12</th>\n      <td>13</td>\n      <td>23</td>\n      <td>bachelors</td>\n      <td>never married</td>\n      <td>agriculture</td>\n      <td>low</td>\n      <td>False</td>\n      <td>False</td>\n      <td>False</td>\n      <td>False</td>\n    </tr>\n    <tr>\n      <th>14</th>\n      <td>15</td>\n      <td>35</td>\n      <td>bachelors</td>\n      <td>married</td>\n      <td>agriculture</td>\n      <td>mid</td>\n      <td>True</td>\n      <td>True</td>\n      <td>False</td>\n      <td>False</td>\n    </tr>\n  </tbody>\n</table>\n</div>",
            "text/plain": "    ID  Age  Education Marital_Status    Occupation Annual_Income  Age≥24  \\\n0    1   39  bachelors  never married  professional          high    True   \n3    4   30  bachelors        married  professional           mid    True   \n8    9   46  bachelors       divorced     transport           mid    True   \n12  13   23  bachelors  never married   agriculture           low   False   \n14  15   35  bachelors        married   agriculture           mid    True   \n\n    Age≥27  Age≥38  Age≥42  \n0     True    True   False  \n3     True   False   False  \n8     True    True    True  \n12   False   False   False  \n14    True   False   False  "
          },
          "metadata": {}
        }
      ]
    },
    {
      "metadata": {
        "trusted": true
      },
      "cell_type": "code",
      "source": "edu_doctorate.head()",
      "execution_count": 16,
      "outputs": [
        {
          "output_type": "execute_result",
          "execution_count": 16,
          "data": {
            "text/html": "<div>\n<style scoped>\n    .dataframe tbody tr th:only-of-type {\n        vertical-align: middle;\n    }\n\n    .dataframe tbody tr th {\n        vertical-align: top;\n    }\n\n    .dataframe thead th {\n        text-align: right;\n    }\n</style>\n<table border=\"1\" class=\"dataframe\">\n  <thead>\n    <tr style=\"text-align: right;\">\n      <th></th>\n      <th>ID</th>\n      <th>Age</th>\n      <th>Education</th>\n      <th>Marital_Status</th>\n      <th>Occupation</th>\n      <th>Annual_Income</th>\n      <th>Age≥24</th>\n      <th>Age≥27</th>\n      <th>Age≥38</th>\n      <th>Age≥42</th>\n    </tr>\n  </thead>\n  <tbody>\n    <tr>\n      <th>1</th>\n      <td>2</td>\n      <td>50</td>\n      <td>doctorate</td>\n      <td>married</td>\n      <td>professional</td>\n      <td>mid</td>\n      <td>True</td>\n      <td>True</td>\n      <td>True</td>\n      <td>True</td>\n    </tr>\n    <tr>\n      <th>7</th>\n      <td>8</td>\n      <td>40</td>\n      <td>doctorate</td>\n      <td>married</td>\n      <td>professional</td>\n      <td>high</td>\n      <td>True</td>\n      <td>True</td>\n      <td>True</td>\n      <td>False</td>\n    </tr>\n    <tr>\n      <th>11</th>\n      <td>12</td>\n      <td>45</td>\n      <td>doctorate</td>\n      <td>married</td>\n      <td>professional</td>\n      <td>mid</td>\n      <td>True</td>\n      <td>True</td>\n      <td>True</td>\n      <td>True</td>\n    </tr>\n    <tr>\n      <th>16</th>\n      <td>17</td>\n      <td>44</td>\n      <td>doctorate</td>\n      <td>divorced</td>\n      <td>transport</td>\n      <td>mid</td>\n      <td>True</td>\n      <td>True</td>\n      <td>True</td>\n      <td>True</td>\n    </tr>\n  </tbody>\n</table>\n</div>",
            "text/plain": "    ID  Age  Education Marital_Status    Occupation Annual_Income  Age≥24  \\\n1    2   50  doctorate        married  professional           mid    True   \n7    8   40  doctorate        married  professional          high    True   \n11  12   45  doctorate        married  professional           mid    True   \n16  17   44  doctorate       divorced     transport           mid    True   \n\n    Age≥27  Age≥38  Age≥42  \n1     True    True    True  \n7     True    True   False  \n11    True    True    True  \n16    True    True    True  "
          },
          "metadata": {}
        }
      ]
    },
    {
      "metadata": {
        "trusted": true
      },
      "cell_type": "code",
      "source": "edu_hs.head()",
      "execution_count": 17,
      "outputs": [
        {
          "output_type": "execute_result",
          "execution_count": 17,
          "data": {
            "text/html": "<div>\n<style scoped>\n    .dataframe tbody tr th:only-of-type {\n        vertical-align: middle;\n    }\n\n    .dataframe tbody tr th {\n        vertical-align: top;\n    }\n\n    .dataframe thead th {\n        text-align: right;\n    }\n</style>\n<table border=\"1\" class=\"dataframe\">\n  <thead>\n    <tr style=\"text-align: right;\">\n      <th></th>\n      <th>ID</th>\n      <th>Age</th>\n      <th>Education</th>\n      <th>Marital_Status</th>\n      <th>Occupation</th>\n      <th>Annual_Income</th>\n      <th>Age≥24</th>\n      <th>Age≥27</th>\n      <th>Age≥38</th>\n      <th>Age≥42</th>\n    </tr>\n  </thead>\n  <tbody>\n    <tr>\n      <th>2</th>\n      <td>3</td>\n      <td>18</td>\n      <td>high school</td>\n      <td>never married</td>\n      <td>agriculture</td>\n      <td>low</td>\n      <td>False</td>\n      <td>False</td>\n      <td>False</td>\n      <td>False</td>\n    </tr>\n    <tr>\n      <th>4</th>\n      <td>5</td>\n      <td>37</td>\n      <td>high school</td>\n      <td>married</td>\n      <td>agriculture</td>\n      <td>mid</td>\n      <td>True</td>\n      <td>True</td>\n      <td>False</td>\n      <td>False</td>\n    </tr>\n    <tr>\n      <th>5</th>\n      <td>6</td>\n      <td>23</td>\n      <td>high school</td>\n      <td>never married</td>\n      <td>agriculture</td>\n      <td>low</td>\n      <td>False</td>\n      <td>False</td>\n      <td>False</td>\n      <td>False</td>\n    </tr>\n    <tr>\n      <th>6</th>\n      <td>7</td>\n      <td>52</td>\n      <td>high school</td>\n      <td>divorced</td>\n      <td>transport</td>\n      <td>mid</td>\n      <td>True</td>\n      <td>True</td>\n      <td>True</td>\n      <td>True</td>\n    </tr>\n    <tr>\n      <th>9</th>\n      <td>10</td>\n      <td>33</td>\n      <td>high school</td>\n      <td>married</td>\n      <td>transport</td>\n      <td>mid</td>\n      <td>True</td>\n      <td>True</td>\n      <td>False</td>\n      <td>False</td>\n    </tr>\n  </tbody>\n</table>\n</div>",
            "text/plain": "   ID  Age    Education Marital_Status   Occupation Annual_Income  Age≥24  \\\n2   3   18  high school  never married  agriculture           low   False   \n4   5   37  high school        married  agriculture           mid    True   \n5   6   23  high school  never married  agriculture           low   False   \n6   7   52  high school       divorced    transport           mid    True   \n9  10   33  high school        married    transport           mid    True   \n\n   Age≥27  Age≥38  Age≥42  \n2   False   False   False  \n4    True   False   False  \n5   False   False   False  \n6    True    True    True  \n9    True   False   False  "
          },
          "metadata": {}
        }
      ]
    },
    {
      "metadata": {},
      "cell_type": "markdown",
      "source": "A for-loop is created to calculate the income distribution in each subset."
    },
    {
      "metadata": {
        "trusted": true
      },
      "cell_type": "code",
      "source": "for df in [edu_bachelors, edu_doctorate, edu_hs]:\n    probs = df['Annual_Income'].value_counts(normalize=True)\n    print('Income probability')\n    print(probs)",
      "execution_count": 18,
      "outputs": [
        {
          "output_type": "stream",
          "text": "Income probability\nmid     0.625\nhigh    0.250\nlow     0.125\nName: Annual_Income, dtype: float64\nIncome probability\nmid     0.75\nhigh    0.25\nName: Annual_Income, dtype: float64\nIncome probability\nmid     0.50\nhigh    0.25\nlow     0.25\nName: Annual_Income, dtype: float64\n",
          "name": "stdout"
        }
      ]
    },
    {
      "metadata": {},
      "cell_type": "markdown",
      "source": "According to above output, we have the following predictions."
    },
    {
      "metadata": {
        "trusted": true
      },
      "cell_type": "code",
      "source": "df_prediction = pd.DataFrame(columns = ['Leaf_Condition', 'Low_Income_Prob', 'Mid_Income_Prob', 'High_Income_Prob', 'Leaf_Prediction'])\ndf_prediction.loc[len(df_prediction)] = ['Education==high school', 0.25, 0.50, 0.25, 'mid']\ndf_prediction.loc[len(df_prediction)] = ['Education==bachelors', 0.125, 0.625, 0.25, 'mid']\ndf_prediction.loc[len(df_prediction)] = ['Education==doctorate', 0, 0.75, 0.25, 'mid']\ndf_prediction",
      "execution_count": 19,
      "outputs": [
        {
          "output_type": "execute_result",
          "execution_count": 19,
          "data": {
            "text/html": "<div>\n<style scoped>\n    .dataframe tbody tr th:only-of-type {\n        vertical-align: middle;\n    }\n\n    .dataframe tbody tr th {\n        vertical-align: top;\n    }\n\n    .dataframe thead th {\n        text-align: right;\n    }\n</style>\n<table border=\"1\" class=\"dataframe\">\n  <thead>\n    <tr style=\"text-align: right;\">\n      <th></th>\n      <th>Leaf_Condition</th>\n      <th>Low_Income_Prob</th>\n      <th>Mid_Income_Prob</th>\n      <th>High_Income_Prob</th>\n      <th>Leaf_Prediction</th>\n    </tr>\n  </thead>\n  <tbody>\n    <tr>\n      <th>0</th>\n      <td>Education==high school</td>\n      <td>0.250</td>\n      <td>0.500</td>\n      <td>0.25</td>\n      <td>mid</td>\n    </tr>\n    <tr>\n      <th>1</th>\n      <td>Education==bachelors</td>\n      <td>0.125</td>\n      <td>0.625</td>\n      <td>0.25</td>\n      <td>mid</td>\n    </tr>\n    <tr>\n      <th>2</th>\n      <td>Education==doctorate</td>\n      <td>0.000</td>\n      <td>0.750</td>\n      <td>0.25</td>\n      <td>mid</td>\n    </tr>\n  </tbody>\n</table>\n</div>",
            "text/plain": "           Leaf_Condition  Low_Income_Prob  Mid_Income_Prob  High_Income_Prob  \\\n0  Education==high school            0.250            0.500              0.25   \n1    Education==bachelors            0.125            0.625              0.25   \n2    Education==doctorate            0.000            0.750              0.25   \n\n  Leaf_Prediction  \n0             mid  \n1             mid  \n2             mid  "
          },
          "metadata": {}
        }
      ]
    },
    {
      "metadata": {
        "trusted": true
      },
      "cell_type": "code",
      "source": "# Part B answer, age at 24 gives the best information gain and therefore can be used at root node.\ndf_splits",
      "execution_count": 20,
      "outputs": [
        {
          "output_type": "execute_result",
          "execution_count": 20,
          "data": {
            "text/html": "<div>\n<style scoped>\n    .dataframe tbody tr th:only-of-type {\n        vertical-align: middle;\n    }\n\n    .dataframe tbody tr th {\n        vertical-align: top;\n    }\n\n    .dataframe thead th {\n        text-align: right;\n    }\n</style>\n<table border=\"1\" class=\"dataframe\">\n  <thead>\n    <tr style=\"text-align: right;\">\n      <th></th>\n      <th>Split</th>\n      <th>Remainder</th>\n      <th>Information_Gain</th>\n      <th>Is_Optimal</th>\n    </tr>\n  </thead>\n  <tbody>\n    <tr>\n      <th>0</th>\n      <td>Education</td>\n      <td>0.537</td>\n      <td>0.018</td>\n      <td>False</td>\n    </tr>\n    <tr>\n      <th>1</th>\n      <td>Marital_Status</td>\n      <td>0.468</td>\n      <td>0.087</td>\n      <td>False</td>\n    </tr>\n    <tr>\n      <th>2</th>\n      <td>Occupation</td>\n      <td>0.433</td>\n      <td>0.122</td>\n      <td>False</td>\n    </tr>\n    <tr>\n      <th>3</th>\n      <td>Age_24</td>\n      <td>0.353</td>\n      <td>0.202</td>\n      <td>True</td>\n    </tr>\n    <tr>\n      <th>4</th>\n      <td>Age_27</td>\n      <td>0.360</td>\n      <td>0.195</td>\n      <td>False</td>\n    </tr>\n    <tr>\n      <th>5</th>\n      <td>Age_38</td>\n      <td>0.529</td>\n      <td>0.026</td>\n      <td>False</td>\n    </tr>\n    <tr>\n      <th>6</th>\n      <td>Age_42</td>\n      <td>0.473</td>\n      <td>0.082</td>\n      <td>False</td>\n    </tr>\n  </tbody>\n</table>\n</div>",
            "text/plain": "            Split  Remainder  Information_Gain Is_Optimal\n0       Education      0.537             0.018      False\n1  Marital_Status      0.468             0.087      False\n2      Occupation      0.433             0.122      False\n3          Age_24      0.353             0.202       True\n4          Age_27      0.360             0.195      False\n5          Age_38      0.529             0.026      False\n6          Age_42      0.473             0.082      False"
          },
          "metadata": {}
        }
      ]
    }
  ],
  "metadata": {
    "kernelspec": {
      "name": "python36",
      "display_name": "Python 3.6",
      "language": "python"
    },
    "language_info": {
      "mimetype": "text/x-python",
      "nbconvert_exporter": "python",
      "name": "python",
      "pygments_lexer": "ipython3",
      "version": "3.6.6",
      "file_extension": ".py",
      "codemirror_mode": {
        "version": 3,
        "name": "ipython"
      }
    }
  },
  "nbformat": 4,
  "nbformat_minor": 2
}