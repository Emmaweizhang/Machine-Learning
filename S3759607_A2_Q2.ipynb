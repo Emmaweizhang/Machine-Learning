{
  "cells": [
    {
      "metadata": {},
      "cell_type": "markdown",
      "source": "I solemnly swear that I have not discussed my assignment solutions with anyone in any way and the solutions I am submitting are my own personal work.\n\nFull Name: Wei Zhang\n\nStudent ID: S3759607"
    },
    {
      "metadata": {
        "collapsed": true
      },
      "cell_type": "markdown",
      "source": "## Question 2, Part A"
    },
    {
      "metadata": {
        "trusted": true
      },
      "cell_type": "code",
      "source": "#!pip install --upgrade altair\n\n#!pip install vega vega_datasets",
      "execution_count": 1,
      "outputs": []
    },
    {
      "metadata": {},
      "cell_type": "markdown",
      "source": "First, read the csv file into the notebook and check the first 5 rows."
    },
    {
      "metadata": {
        "trusted": true
      },
      "cell_type": "code",
      "source": "import numpy as np\nimport pandas as pd\npd.set_option('display.max_columns', None)\n\ndata2 = pd.read_csv('A2_Q2.csv', sep = ',')\ndata2.head()",
      "execution_count": 2,
      "outputs": [
        {
          "output_type": "execute_result",
          "execution_count": 2,
          "data": {
            "text/html": "<div>\n<style scoped>\n    .dataframe tbody tr th:only-of-type {\n        vertical-align: middle;\n    }\n\n    .dataframe tbody tr th {\n        vertical-align: top;\n    }\n\n    .dataframe thead th {\n        text-align: right;\n    }\n</style>\n<table border=\"1\" class=\"dataframe\">\n  <thead>\n    <tr style=\"text-align: right;\">\n      <th></th>\n      <th>ID</th>\n      <th>Target</th>\n      <th>Score</th>\n    </tr>\n  </thead>\n  <tbody>\n    <tr>\n      <th>0</th>\n      <td>1</td>\n      <td>False</td>\n      <td>0.46</td>\n    </tr>\n    <tr>\n      <th>1</th>\n      <td>2</td>\n      <td>False</td>\n      <td>0.14</td>\n    </tr>\n    <tr>\n      <th>2</th>\n      <td>3</td>\n      <td>False</td>\n      <td>0.48</td>\n    </tr>\n    <tr>\n      <th>3</th>\n      <td>4</td>\n      <td>True</td>\n      <td>0.91</td>\n    </tr>\n    <tr>\n      <th>4</th>\n      <td>5</td>\n      <td>False</td>\n      <td>0.24</td>\n    </tr>\n  </tbody>\n</table>\n</div>",
            "text/plain": "   ID  Target  Score\n0   1   False   0.46\n1   2   False   0.14\n2   3   False   0.48\n3   4    True   0.91\n4   5   False   0.24"
          },
          "metadata": {}
        }
      ]
    },
    {
      "metadata": {},
      "cell_type": "markdown",
      "source": "Use the score of 0.5 as the threshold. A new column `Prediction` is created based on the `Score` feature. Above the threshold of 0.5, the prediction is positive (True). Otherwise, the prediction becomes negative (False)."
    },
    {
      "metadata": {
        "trusted": true
      },
      "cell_type": "code",
      "source": "data2['Prediction'] = data2['Score'] >= 0.5\ndata2.head()",
      "execution_count": 3,
      "outputs": [
        {
          "output_type": "execute_result",
          "execution_count": 3,
          "data": {
            "text/html": "<div>\n<style scoped>\n    .dataframe tbody tr th:only-of-type {\n        vertical-align: middle;\n    }\n\n    .dataframe tbody tr th {\n        vertical-align: top;\n    }\n\n    .dataframe thead th {\n        text-align: right;\n    }\n</style>\n<table border=\"1\" class=\"dataframe\">\n  <thead>\n    <tr style=\"text-align: right;\">\n      <th></th>\n      <th>ID</th>\n      <th>Target</th>\n      <th>Score</th>\n      <th>Prediction</th>\n    </tr>\n  </thead>\n  <tbody>\n    <tr>\n      <th>0</th>\n      <td>1</td>\n      <td>False</td>\n      <td>0.46</td>\n      <td>False</td>\n    </tr>\n    <tr>\n      <th>1</th>\n      <td>2</td>\n      <td>False</td>\n      <td>0.14</td>\n      <td>False</td>\n    </tr>\n    <tr>\n      <th>2</th>\n      <td>3</td>\n      <td>False</td>\n      <td>0.48</td>\n      <td>False</td>\n    </tr>\n    <tr>\n      <th>3</th>\n      <td>4</td>\n      <td>True</td>\n      <td>0.91</td>\n      <td>True</td>\n    </tr>\n    <tr>\n      <th>4</th>\n      <td>5</td>\n      <td>False</td>\n      <td>0.24</td>\n      <td>False</td>\n    </tr>\n  </tbody>\n</table>\n</div>",
            "text/plain": "   ID  Target  Score  Prediction\n0   1   False   0.46       False\n1   2   False   0.14       False\n2   3   False   0.48       False\n3   4    True   0.91        True\n4   5   False   0.24       False"
          },
          "metadata": {}
        }
      ]
    },
    {
      "metadata": {
        "trusted": true
      },
      "cell_type": "code",
      "source": "pd.crosstab(data2.Target, data2.Prediction, margins=True)",
      "execution_count": 4,
      "outputs": [
        {
          "output_type": "execute_result",
          "execution_count": 4,
          "data": {
            "text/html": "<div>\n<style scoped>\n    .dataframe tbody tr th:only-of-type {\n        vertical-align: middle;\n    }\n\n    .dataframe tbody tr th {\n        vertical-align: top;\n    }\n\n    .dataframe thead th {\n        text-align: right;\n    }\n</style>\n<table border=\"1\" class=\"dataframe\">\n  <thead>\n    <tr style=\"text-align: right;\">\n      <th>Prediction</th>\n      <th>False</th>\n      <th>True</th>\n      <th>All</th>\n    </tr>\n    <tr>\n      <th>Target</th>\n      <th></th>\n      <th></th>\n      <th></th>\n    </tr>\n  </thead>\n  <tbody>\n    <tr>\n      <th>False</th>\n      <td>11</td>\n      <td>6</td>\n      <td>17</td>\n    </tr>\n    <tr>\n      <th>True</th>\n      <td>4</td>\n      <td>9</td>\n      <td>13</td>\n    </tr>\n    <tr>\n      <th>All</th>\n      <td>15</td>\n      <td>15</td>\n      <td>30</td>\n    </tr>\n  </tbody>\n</table>\n</div>",
            "text/plain": "Prediction  False  True  All\nTarget                      \nFalse          11     6   17\nTrue            4     9   13\nAll            15    15   30"
          },
          "metadata": {}
        }
      ]
    },
    {
      "metadata": {},
      "cell_type": "markdown",
      "source": "Above is the confusion matrix for the given model.\nNow we calculate the metrics based on the confusion matrix to answer Part B."
    },
    {
      "metadata": {},
      "cell_type": "markdown",
      "source": "### Part B"
    },
    {
      "metadata": {},
      "cell_type": "markdown",
      "source": "Compute the following 5 metrics:\n\n- Error Rate\n- Precision\n- TPR (True Positive Rate) (also known as Recall)\n- F1-Score\n- FPR (False Positive Rate)"
    },
    {
      "metadata": {
        "trusted": true
      },
      "cell_type": "code",
      "source": "# Error Rate\nerror_rate = round((6+4)/30, 3)\nerror_rate",
      "execution_count": 5,
      "outputs": [
        {
          "output_type": "execute_result",
          "execution_count": 5,
          "data": {
            "text/plain": "0.333"
          },
          "metadata": {}
        }
      ]
    },
    {
      "metadata": {
        "trusted": true
      },
      "cell_type": "code",
      "source": "# Precision\nPrecision = round(9/(9+6), 3)\nPrecision",
      "execution_count": 6,
      "outputs": [
        {
          "output_type": "execute_result",
          "execution_count": 6,
          "data": {
            "text/plain": "0.6"
          },
          "metadata": {}
        }
      ]
    },
    {
      "metadata": {
        "trusted": true
      },
      "cell_type": "code",
      "source": "#TPR (True Positive Rate) (also known as Recall)\nRecall = round(9/(9+4), 3)\nRecall",
      "execution_count": 7,
      "outputs": [
        {
          "output_type": "execute_result",
          "execution_count": 7,
          "data": {
            "text/plain": "0.692"
          },
          "metadata": {}
        }
      ]
    },
    {
      "metadata": {
        "trusted": true
      },
      "cell_type": "code",
      "source": "#F1-Score: harmonic mean of precision and recall\nF1 = round(2 * (Precision*Recall)/(Precision+Recall), 3)\nF1",
      "execution_count": 8,
      "outputs": [
        {
          "output_type": "execute_result",
          "execution_count": 8,
          "data": {
            "text/plain": "0.643"
          },
          "metadata": {}
        }
      ]
    },
    {
      "metadata": {
        "trusted": true
      },
      "cell_type": "code",
      "source": "# FPR (False Positive Rate)\nFPR = round(6/(11+6), 3)\nFPR",
      "execution_count": 9,
      "outputs": [
        {
          "output_type": "execute_result",
          "execution_count": 9,
          "data": {
            "text/plain": "0.353"
          },
          "metadata": {}
        }
      ]
    },
    {
      "metadata": {
        "trusted": true
      },
      "cell_type": "code",
      "source": "df_metrics = pd.DataFrame(columns = ['Metric', 'Value'])\ndf_metrics.loc[len(df_metrics)] = ['Error Rate', error_rate]\ndf_metrics.loc[len(df_metrics)] = ['Precision', Precision]\ndf_metrics.loc[len(df_metrics)] = ['TPR(Recall)', Recall]\ndf_metrics.loc[len(df_metrics)] = ['F1-Score', F1]\ndf_metrics.loc[len(df_metrics)] = ['FPR', FPR]\n\ndf_metrics",
      "execution_count": 10,
      "outputs": [
        {
          "output_type": "execute_result",
          "execution_count": 10,
          "data": {
            "text/html": "<div>\n<style scoped>\n    .dataframe tbody tr th:only-of-type {\n        vertical-align: middle;\n    }\n\n    .dataframe tbody tr th {\n        vertical-align: top;\n    }\n\n    .dataframe thead th {\n        text-align: right;\n    }\n</style>\n<table border=\"1\" class=\"dataframe\">\n  <thead>\n    <tr style=\"text-align: right;\">\n      <th></th>\n      <th>Metric</th>\n      <th>Value</th>\n    </tr>\n  </thead>\n  <tbody>\n    <tr>\n      <th>0</th>\n      <td>Error Rate</td>\n      <td>0.333</td>\n    </tr>\n    <tr>\n      <th>1</th>\n      <td>Precision</td>\n      <td>0.600</td>\n    </tr>\n    <tr>\n      <th>2</th>\n      <td>TPR(Recall)</td>\n      <td>0.692</td>\n    </tr>\n    <tr>\n      <th>3</th>\n      <td>F1-Score</td>\n      <td>0.643</td>\n    </tr>\n    <tr>\n      <th>4</th>\n      <td>FPR</td>\n      <td>0.353</td>\n    </tr>\n  </tbody>\n</table>\n</div>",
            "text/plain": "        Metric  Value\n0   Error Rate  0.333\n1    Precision  0.600\n2  TPR(Recall)  0.692\n3     F1-Score  0.643\n4          FPR  0.353"
          },
          "metadata": {}
        }
      ]
    },
    {
      "metadata": {},
      "cell_type": "markdown",
      "source": "### Part C"
    },
    {
      "metadata": {},
      "cell_type": "markdown",
      "source": "Create a for-loop to calculate the TPR and FPR at different thresholds."
    },
    {
      "metadata": {
        "trusted": true
      },
      "cell_type": "code",
      "source": "thresholds = []\ntpr_list = []\nfpr_list = []\nfor threshold in np.arange(0.1, 1, 0.1):\n    \n    # create new column 'Prediction_new' as per this threshold, and store this threshold in the list\n    data2['Prediction_new'] = data2['Score'] >= threshold\n    thresholds.append(threshold)\n    \n    # calculate the number of true positives (Target and Prediction_new columns are both True value)\n    # calculate the number of actual positive values based on Target column\n    # store the true positive rates in the list\n    true_positive = len(data2[(data2.Target == True)&(data2.Prediction_new == True)])\n    positive = len(data2[data2.Target == True])\n    TPR = round(true_positive / positive, 3)\n    tpr_list.append(TPR)\n    print('TPR for threshold ',threshold, 'is ', TPR)\n    \n    # calculate the number of false positives (Target is Falise and Prediction_new columns is True)\n    # calculate the number of False values based on Target column\n    # store the false positive rates in the list\n    false_positive = len(data2[(data2.Target == False)&(data2.Prediction_new == True)])\n    negative = len(data2[data2.Target == False])\n    FPR = round(false_positive / negative, 3)\n    fpr_list.append(FPR)\n    print('FPR for threshold ', threshold, 'is ', FPR)\n    print('============')",
      "execution_count": 11,
      "outputs": [
        {
          "output_type": "stream",
          "text": "TPR for threshold  0.1 is  1.0\nFPR for threshold  0.1 is  0.941\n============\nTPR for threshold  0.2 is  1.0\nFPR for threshold  0.2 is  0.706\n============\nTPR for threshold  0.30000000000000004 is  0.923\nFPR for threshold  0.30000000000000004 is  0.588\n============\nTPR for threshold  0.4 is  0.846\nFPR for threshold  0.4 is  0.471\n============\nTPR for threshold  0.5 is  0.692\nFPR for threshold  0.5 is  0.353\n============\nTPR for threshold  0.6 is  0.615\nFPR for threshold  0.6 is  0.235\n============\nTPR for threshold  0.7000000000000001 is  0.462\nFPR for threshold  0.7000000000000001 is  0.118\n============\nTPR for threshold  0.8 is  0.308\nFPR for threshold  0.8 is  0.059\n============\nTPR for threshold  0.9 is  0.077\nFPR for threshold  0.9 is  0.0\n============\n",
          "name": "stdout"
        }
      ]
    },
    {
      "metadata": {
        "trusted": true
      },
      "cell_type": "code",
      "source": "df_roc = pd.DataFrame({'Threshold': thresholds, 'TPR': tpr_list, 'FPR': fpr_list})\ndf_roc",
      "execution_count": 12,
      "outputs": [
        {
          "output_type": "execute_result",
          "execution_count": 12,
          "data": {
            "text/html": "<div>\n<style scoped>\n    .dataframe tbody tr th:only-of-type {\n        vertical-align: middle;\n    }\n\n    .dataframe tbody tr th {\n        vertical-align: top;\n    }\n\n    .dataframe thead th {\n        text-align: right;\n    }\n</style>\n<table border=\"1\" class=\"dataframe\">\n  <thead>\n    <tr style=\"text-align: right;\">\n      <th></th>\n      <th>Threshold</th>\n      <th>TPR</th>\n      <th>FPR</th>\n    </tr>\n  </thead>\n  <tbody>\n    <tr>\n      <th>0</th>\n      <td>0.1</td>\n      <td>1.000</td>\n      <td>0.941</td>\n    </tr>\n    <tr>\n      <th>1</th>\n      <td>0.2</td>\n      <td>1.000</td>\n      <td>0.706</td>\n    </tr>\n    <tr>\n      <th>2</th>\n      <td>0.3</td>\n      <td>0.923</td>\n      <td>0.588</td>\n    </tr>\n    <tr>\n      <th>3</th>\n      <td>0.4</td>\n      <td>0.846</td>\n      <td>0.471</td>\n    </tr>\n    <tr>\n      <th>4</th>\n      <td>0.5</td>\n      <td>0.692</td>\n      <td>0.353</td>\n    </tr>\n    <tr>\n      <th>5</th>\n      <td>0.6</td>\n      <td>0.615</td>\n      <td>0.235</td>\n    </tr>\n    <tr>\n      <th>6</th>\n      <td>0.7</td>\n      <td>0.462</td>\n      <td>0.118</td>\n    </tr>\n    <tr>\n      <th>7</th>\n      <td>0.8</td>\n      <td>0.308</td>\n      <td>0.059</td>\n    </tr>\n    <tr>\n      <th>8</th>\n      <td>0.9</td>\n      <td>0.077</td>\n      <td>0.000</td>\n    </tr>\n  </tbody>\n</table>\n</div>",
            "text/plain": "   Threshold    TPR    FPR\n0        0.1  1.000  0.941\n1        0.2  1.000  0.706\n2        0.3  0.923  0.588\n3        0.4  0.846  0.471\n4        0.5  0.692  0.353\n5        0.6  0.615  0.235\n6        0.7  0.462  0.118\n7        0.8  0.308  0.059\n8        0.9  0.077  0.000"
          },
          "metadata": {}
        }
      ]
    },
    {
      "metadata": {
        "trusted": true
      },
      "cell_type": "code",
      "source": "# Part B answer, compare when threshold=0.5, the results agree with that in df_metrics\ndf_metrics",
      "execution_count": 13,
      "outputs": [
        {
          "output_type": "execute_result",
          "execution_count": 13,
          "data": {
            "text/html": "<div>\n<style scoped>\n    .dataframe tbody tr th:only-of-type {\n        vertical-align: middle;\n    }\n\n    .dataframe tbody tr th {\n        vertical-align: top;\n    }\n\n    .dataframe thead th {\n        text-align: right;\n    }\n</style>\n<table border=\"1\" class=\"dataframe\">\n  <thead>\n    <tr style=\"text-align: right;\">\n      <th></th>\n      <th>Metric</th>\n      <th>Value</th>\n    </tr>\n  </thead>\n  <tbody>\n    <tr>\n      <th>0</th>\n      <td>Error Rate</td>\n      <td>0.333</td>\n    </tr>\n    <tr>\n      <th>1</th>\n      <td>Precision</td>\n      <td>0.600</td>\n    </tr>\n    <tr>\n      <th>2</th>\n      <td>TPR(Recall)</td>\n      <td>0.692</td>\n    </tr>\n    <tr>\n      <th>3</th>\n      <td>F1-Score</td>\n      <td>0.643</td>\n    </tr>\n    <tr>\n      <th>4</th>\n      <td>FPR</td>\n      <td>0.353</td>\n    </tr>\n  </tbody>\n</table>\n</div>",
            "text/plain": "        Metric  Value\n0   Error Rate  0.333\n1    Precision  0.600\n2  TPR(Recall)  0.692\n3     F1-Score  0.643\n4          FPR  0.353"
          },
          "metadata": {}
        }
      ]
    },
    {
      "metadata": {},
      "cell_type": "markdown",
      "source": "### Part D\nUsing the answer in the above part, an ROC curve with appropriate axes labels and a title are displayed.  ROC (Receiver Operating Characteristic) curves."
    },
    {
      "metadata": {
        "trusted": true
      },
      "cell_type": "code",
      "source": "import altair as alt\nalt.renderers.enable('notebook')\n\nbase = alt.Chart(df_roc, \n                 title='ROC Curve at Different Thresholds'\n                ).properties(width=300)\n\nroc_curve = base.mark_line(point=True).encode(\n    alt.X('FPR', title='False Positive Rate (FPR)',  sort=None),\n    alt.Y('TPR', title='True Positive Rate (TPR) (a.k.a Recall)'),\n)\n\nroc_rule = base.mark_line(color='green').encode(\n    x='FPR',\n    y='TPR',\n    size=alt.value(2)\n)\n\n(roc_curve + roc_rule).interactive()",
      "execution_count": 14,
      "outputs": [
        {
          "output_type": "display_data",
          "data": {
            "application/javascript": "const spec = {\"config\": {\"view\": {\"continuousWidth\": 400, \"continuousHeight\": 300}}, \"layer\": [{\"mark\": {\"type\": \"line\", \"point\": true}, \"encoding\": {\"x\": {\"type\": \"quantitative\", \"field\": \"FPR\", \"sort\": null, \"title\": \"False Positive Rate (FPR)\"}, \"y\": {\"type\": \"quantitative\", \"field\": \"TPR\", \"title\": \"True Positive Rate (TPR) (a.k.a Recall)\"}}, \"selection\": {\"selector001\": {\"type\": \"interval\", \"bind\": \"scales\", \"encodings\": [\"x\", \"y\"]}}, \"title\": \"ROC Curve at Different Thresholds\", \"width\": 300}, {\"mark\": {\"type\": \"line\", \"color\": \"green\"}, \"encoding\": {\"size\": {\"value\": 2}, \"x\": {\"type\": \"quantitative\", \"field\": \"FPR\"}, \"y\": {\"type\": \"quantitative\", \"field\": \"TPR\"}}, \"title\": \"ROC Curve at Different Thresholds\", \"width\": 300}], \"data\": {\"name\": \"data-cae4ef71ce6dee58f3b00e6f752d76f8\"}, \"$schema\": \"https://vega.github.io/schema/vega-lite/v4.8.1.json\", \"datasets\": {\"data-cae4ef71ce6dee58f3b00e6f752d76f8\": [{\"Threshold\": 0.1, \"TPR\": 1.0, \"FPR\": 0.941}, {\"Threshold\": 0.2, \"TPR\": 1.0, \"FPR\": 0.706}, {\"Threshold\": 0.30000000000000004, \"TPR\": 0.923, \"FPR\": 0.588}, {\"Threshold\": 0.4, \"TPR\": 0.846, \"FPR\": 0.471}, {\"Threshold\": 0.5, \"TPR\": 0.692, \"FPR\": 0.353}, {\"Threshold\": 0.6, \"TPR\": 0.615, \"FPR\": 0.235}, {\"Threshold\": 0.7000000000000001, \"TPR\": 0.462, \"FPR\": 0.118}, {\"Threshold\": 0.8, \"TPR\": 0.308, \"FPR\": 0.059}, {\"Threshold\": 0.9, \"TPR\": 0.077, \"FPR\": 0.0}]}};\nconst opt = {};\nconst type = \"vega-lite\";\nconst id = \"39daa26c-f602-4e62-bcf9-7352e8d1b89c\";\n\nconst output_area = this;\n\nrequire([\"nbextensions/jupyter-vega/index\"], function(vega) {\n  const target = document.createElement(\"div\");\n  target.id = id;\n  target.className = \"vega-embed\";\n\n  const style = document.createElement(\"style\");\n  style.textContent = [\n    \".vega-embed .error p {\",\n    \"  color: firebrick;\",\n    \"  font-size: 14px;\",\n    \"}\",\n  ].join(\"\\\\n\");\n\n  // element is a jQuery wrapped DOM element inside the output area\n  // see http://ipython.readthedocs.io/en/stable/api/generated/\\\n  // IPython.display.html#IPython.display.Javascript.__init__\n  element[0].appendChild(target);\n  element[0].appendChild(style);\n\n  vega.render(\"#\" + id, spec, type, opt, output_area);\n}, function (err) {\n  if (err.requireType !== \"scripterror\") {\n    throw(err);\n  }\n});\n",
            "text/plain": "<vega.vegalite.VegaLite at 0x7f18bb8d4fd0>"
          },
          "metadata": {
            "jupyter-vega": "#39daa26c-f602-4e62-bcf9-7352e8d1b89c"
          }
        },
        {
          "data": {
            "image/png": "[encoded data removed]"
          },
          "metadata": {
            "jupyter-vega": "#39daa26c-f602-4e62-bcf9-7352e8d1b89c"
          },
          "output_type": "display_data"
        },
        {
          "output_type": "execute_result",
          "execution_count": 14,
          "data": {
            "text/plain": ""
          },
          "metadata": {}
        }
      ]
    }
  ],
  "metadata": {
    "kernelspec": {
      "name": "python36",
      "display_name": "Python 3.6",
      "language": "python"
    },
    "language_info": {
      "mimetype": "text/x-python",
      "nbconvert_exporter": "python",
      "name": "python",
      "pygments_lexer": "ipython3",
      "version": "3.6.6",
      "file_extension": ".py",
      "codemirror_mode": {
        "version": 3,
        "name": "ipython"
      }
    }
  },
  "nbformat": 4,
  "nbformat_minor": 2
}